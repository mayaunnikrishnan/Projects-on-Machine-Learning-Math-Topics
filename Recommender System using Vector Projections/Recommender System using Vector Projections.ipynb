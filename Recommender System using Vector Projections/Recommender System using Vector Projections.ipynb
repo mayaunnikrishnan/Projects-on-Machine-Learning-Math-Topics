{
 "cells": [
  {
   "cell_type": "code",
   "execution_count": 30,
   "metadata": {},
   "outputs": [],
   "source": [
    "import pandas as pd\n",
    "# Load the dataset\n",
    "anime_df = pd.read_csv(\"anime.csv\")"
   ]
  },
  {
   "cell_type": "code",
   "execution_count": 31,
   "metadata": {},
   "outputs": [
    {
     "data": {
      "text/html": [
       "<div>\n",
       "<style scoped>\n",
       "    .dataframe tbody tr th:only-of-type {\n",
       "        vertical-align: middle;\n",
       "    }\n",
       "\n",
       "    .dataframe tbody tr th {\n",
       "        vertical-align: top;\n",
       "    }\n",
       "\n",
       "    .dataframe thead th {\n",
       "        text-align: right;\n",
       "    }\n",
       "</style>\n",
       "<table border=\"1\" class=\"dataframe\">\n",
       "  <thead>\n",
       "    <tr style=\"text-align: right;\">\n",
       "      <th></th>\n",
       "      <th>anime_id</th>\n",
       "      <th>name</th>\n",
       "      <th>genre</th>\n",
       "      <th>type</th>\n",
       "      <th>episodes</th>\n",
       "      <th>rating</th>\n",
       "      <th>members</th>\n",
       "    </tr>\n",
       "  </thead>\n",
       "  <tbody>\n",
       "    <tr>\n",
       "      <th>0</th>\n",
       "      <td>32281</td>\n",
       "      <td>Kimi no Na wa.</td>\n",
       "      <td>Drama, Romance, School, Supernatural</td>\n",
       "      <td>Movie</td>\n",
       "      <td>1</td>\n",
       "      <td>9.37</td>\n",
       "      <td>200630</td>\n",
       "    </tr>\n",
       "    <tr>\n",
       "      <th>1</th>\n",
       "      <td>5114</td>\n",
       "      <td>Fullmetal Alchemist: Brotherhood</td>\n",
       "      <td>Action, Adventure, Drama, Fantasy, Magic, Mili...</td>\n",
       "      <td>TV</td>\n",
       "      <td>64</td>\n",
       "      <td>9.26</td>\n",
       "      <td>793665</td>\n",
       "    </tr>\n",
       "    <tr>\n",
       "      <th>2</th>\n",
       "      <td>28977</td>\n",
       "      <td>Gintama°</td>\n",
       "      <td>Action, Comedy, Historical, Parody, Samurai, S...</td>\n",
       "      <td>TV</td>\n",
       "      <td>51</td>\n",
       "      <td>9.25</td>\n",
       "      <td>114262</td>\n",
       "    </tr>\n",
       "    <tr>\n",
       "      <th>3</th>\n",
       "      <td>9253</td>\n",
       "      <td>Steins;Gate</td>\n",
       "      <td>Sci-Fi, Thriller</td>\n",
       "      <td>TV</td>\n",
       "      <td>24</td>\n",
       "      <td>9.17</td>\n",
       "      <td>673572</td>\n",
       "    </tr>\n",
       "    <tr>\n",
       "      <th>4</th>\n",
       "      <td>9969</td>\n",
       "      <td>Gintama&amp;#039;</td>\n",
       "      <td>Action, Comedy, Historical, Parody, Samurai, S...</td>\n",
       "      <td>TV</td>\n",
       "      <td>51</td>\n",
       "      <td>9.16</td>\n",
       "      <td>151266</td>\n",
       "    </tr>\n",
       "  </tbody>\n",
       "</table>\n",
       "</div>"
      ],
      "text/plain": [
       "   anime_id                              name  \\\n",
       "0     32281                    Kimi no Na wa.   \n",
       "1      5114  Fullmetal Alchemist: Brotherhood   \n",
       "2     28977                          Gintama°   \n",
       "3      9253                       Steins;Gate   \n",
       "4      9969                     Gintama&#039;   \n",
       "\n",
       "                                               genre   type episodes  rating  \\\n",
       "0               Drama, Romance, School, Supernatural  Movie        1    9.37   \n",
       "1  Action, Adventure, Drama, Fantasy, Magic, Mili...     TV       64    9.26   \n",
       "2  Action, Comedy, Historical, Parody, Samurai, S...     TV       51    9.25   \n",
       "3                                   Sci-Fi, Thriller     TV       24    9.17   \n",
       "4  Action, Comedy, Historical, Parody, Samurai, S...     TV       51    9.16   \n",
       "\n",
       "   members  \n",
       "0   200630  \n",
       "1   793665  \n",
       "2   114262  \n",
       "3   673572  \n",
       "4   151266  "
      ]
     },
     "execution_count": 31,
     "metadata": {},
     "output_type": "execute_result"
    }
   ],
   "source": [
    "anime_df.head()"
   ]
  },
  {
   "cell_type": "code",
   "execution_count": 33,
   "metadata": {},
   "outputs": [],
   "source": [
    "# Fill missing values\n",
    "anime_df['genre'] = anime_df['genre'].fillna('')\n",
    "anime_df['type'] = anime_df['type'].fillna('')\n",
    "anime_df['rating']=anime_df['rating'].fillna(anime_df['rating'].mean())"
   ]
  },
  {
   "cell_type": "code",
   "execution_count": 34,
   "metadata": {},
   "outputs": [],
   "source": [
    "# Combine text features\n",
    "anime_df['combined_features'] = anime_df['genre'] + ' ' + anime_df['type'] + ' ' + anime_df['rating'].astype(str)"
   ]
  },
  {
   "cell_type": "code",
   "execution_count": 35,
   "metadata": {},
   "outputs": [],
   "source": [
    "from sklearn.feature_extraction.text import TfidfVectorizer\n",
    "# Initialize TF-IDF Vectorizer\n",
    "tfidf_vectorizer = TfidfVectorizer()\n",
    "\n",
    "# Fit and transform the combined features\n",
    "tfidf_matrix = tfidf_vectorizer.fit_transform(anime_df['combined_features'])"
   ]
  },
  {
   "cell_type": "code",
   "execution_count": 36,
   "metadata": {},
   "outputs": [
    {
     "data": {
      "text/plain": [
       "<12294x144 sparse matrix of type '<class 'numpy.float64'>'\n",
       "\twith 64043 stored elements in Compressed Sparse Row format>"
      ]
     },
     "execution_count": 36,
     "metadata": {},
     "output_type": "execute_result"
    }
   ],
   "source": [
    "tfidf_matrix"
   ]
  },
  {
   "cell_type": "code",
   "execution_count": 37,
   "metadata": {},
   "outputs": [],
   "source": [
    "from sklearn.metrics.pairwise import linear_kernel\n",
    "def recommend_anime(anime_title, tfidf_matrix=tfidf_matrix):\n",
    "    # Find the index of the given anime title\n",
    "    anime_index = anime_df[anime_df['name'] == anime_title].index[0]\n",
    "\n",
    "    # Calculate cosine similarity between the given anime and all other anime\n",
    "    cosine_similarities = linear_kernel(tfidf_matrix[anime_index], tfidf_matrix).flatten()\n",
    "\n",
    "    # Get top 10 similar anime indices\n",
    "    similar_anime_indices = cosine_similarities.argsort()[-11:-1][::-1]\n",
    "\n",
    "    # Get top 10 similar anime titles\n",
    "    similar_anime_titles = anime_df.iloc[similar_anime_indices]['name'].values\n",
    "\n",
    "    return similar_anime_titles"
   ]
  },
  {
   "cell_type": "code",
   "execution_count": 41,
   "metadata": {},
   "outputs": [
    {
     "name": "stdout",
     "output_type": "stream",
     "text": [
      "Anime similar to Naruto :\n",
      "Iron Virgin Jun\n",
      "Naruto: Shippuuden Movie 3 - Hi no Ishi wo Tsugu Mono\n",
      "Dragon Ball Super\n",
      "Ikkitousen: Extravaganza Epoch\n",
      "Tenjou Tenge\n",
      "Naruto: Shippuuden\n",
      "Gakuen Tokusou Hikaruon\n",
      "Rekka no Honoo\n",
      "Naruto x UT\n",
      "Dragon Ball Z\n"
     ]
    }
   ],
   "source": [
    "# Sample usage\n",
    "anime_title = 'Naruto'\n",
    "recommended_anime = recommend_anime(anime_title)\n",
    "print(\"Anime similar to\", anime_title, \":\")\n",
    "for anime in recommended_anime:\n",
    "    print(anime)"
   ]
  },
  {
   "cell_type": "markdown",
   "metadata": {},
   "source": [
    "* TF-IDF Vectorization: The text features of each anime (in this case, 'genre', 'type', and 'rating') are combined into a single string and then converted into numerical representations using TF-IDF vectorization. Each anime is represented as a vector in a high-dimensional space, where each dimension corresponds to a unique term (word or feature) present in the dataset.\n",
    "\n",
    "* Cosine Similarity Calculation: Cosine similarity is then calculated between the TF-IDF vectors of the given anime and all other anime in the dataset. Cosine similarity measures the cosine of the angle between two vectors and ranges from -1 to 1, where a value closer to 1 indicates higher similarity. In essence, cosine similarity involves projecting one vector onto another and measuring the cosine of the resulting angle.\n",
    "\n",
    "* Recommendation Generation: Based on the cosine similarity scores, the top N anime with the highest similarity scores are recommended as similar anime to the given anime."
   ]
  },
  {
   "cell_type": "markdown",
   "metadata": {},
   "source": []
  }
 ],
 "metadata": {
  "kernelspec": {
   "display_name": "Python 3",
   "language": "python",
   "name": "python3"
  },
  "language_info": {
   "codemirror_mode": {
    "name": "ipython",
    "version": 3
   },
   "file_extension": ".py",
   "mimetype": "text/x-python",
   "name": "python",
   "nbconvert_exporter": "python",
   "pygments_lexer": "ipython3",
   "version": "3.11.5"
  }
 },
 "nbformat": 4,
 "nbformat_minor": 2
}
