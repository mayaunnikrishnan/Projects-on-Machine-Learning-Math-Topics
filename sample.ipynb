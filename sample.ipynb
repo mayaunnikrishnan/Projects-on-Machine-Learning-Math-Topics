{
 "cells": [
  {
   "cell_type": "code",
   "execution_count": 1,
   "metadata": {},
   "outputs": [],
   "source": [
    "import pandas as pd\n",
    "import numpy as np\n",
    "from sklearn.metrics import classification_report\n",
    "from sklearn.utils import resample"
   ]
  },
  {
   "cell_type": "code",
   "execution_count": 2,
   "metadata": {},
   "outputs": [
    {
     "data": {
      "text/plain": [
       "class\n",
       "0    284315\n",
       "1       492\n",
       "Name: count, dtype: int64"
      ]
     },
     "execution_count": 2,
     "metadata": {},
     "output_type": "execute_result"
    }
   ],
   "source": [
    "df=pd.read_csv('creditcardfraud_normalised.csv')\n",
    "df['class'].value_counts()"
   ]
  },
  {
   "cell_type": "markdown",
   "metadata": {},
   "source": [
    "# Unified Sampling Theory (UST) "
   ]
  },
  {
   "cell_type": "code",
   "execution_count": 4,
   "metadata": {},
   "outputs": [],
   "source": [
    "def unified_sampling(dataframe,minority_ratio=0.5):\n",
    "    df1=dataframe[dataframe['class']==0]\n",
    "    df2=dataframe[dataframe['class']==1]\n",
    "    total_samples_needed = int((len(df2) / minority_ratio) * 2)\n",
    "    minority_samples_needed = int(total_samples_needed * minority_ratio)\n",
    "    majority_samples_needed = total_samples_needed - minority_samples_needed\n",
    "    data_minority_resampled = resample(df2, replace=True, n_samples=minority_samples_needed, random_state=42)\n",
    "    if majority_samples_needed > len(df1):\n",
    "        raise ValueError(\"Desired majority sample size exceeds the actual majority class size. Please adjust the desired_minority_ratio.\")\n",
    "    else:\n",
    "        data_majority_resampled = resample(df1, replace=False, \n",
    "                                            n_samples=majority_samples_needed, \n",
    "                                            random_state=42)\n",
    "    data_resampled = pd.concat([data_minority_resampled, data_majority_resampled], axis=0)\n",
    "    return data_resampled\n",
    "data=unified_sampling(df)\n"
   ]
  },
  {
   "cell_type": "code",
   "execution_count": 5,
   "metadata": {},
   "outputs": [],
   "source": [
    "data2=data.drop(columns=['class'])"
   ]
  },
  {
   "cell_type": "markdown",
   "metadata": {},
   "source": [
    "### calculating Euclidean norm (L2 norm)\n",
    "#### percentile-based thresholding with l2 norm"
   ]
  },
  {
   "cell_type": "code",
   "execution_count": 6,
   "metadata": {},
   "outputs": [
    {
     "name": "stdout",
     "output_type": "stream",
     "text": [
      "              precision    recall  f1-score   support\n",
      "\n",
      "           0       0.39      0.58      0.47       984\n",
      "           1       0.17      0.08      0.11       984\n",
      "\n",
      "    accuracy                           0.33      1968\n",
      "   macro avg       0.28      0.33      0.29      1968\n",
      "weighted avg       0.28      0.33      0.29      1968\n",
      "\n"
     ]
    }
   ],
   "source": [
    "\n",
    "norms = np.linalg.norm(data2, axis=1)\n",
    "data['l2norm']=norms\n",
    "percentile_threshold = np.percentile(norms, 75)\n",
    "thresholded_points = data[norms > percentile_threshold]\n",
    "y_true = data['class']\n",
    "y_pred = np.where(norms > percentile_threshold, 1, 0)\n",
    "print(classification_report(y_true, y_pred))"
   ]
  },
  {
   "cell_type": "markdown",
   "metadata": {},
   "source": [
    "### Manhattan norm (L1 norm)\n",
    "#### percentile-based thresholding with l1 norm"
   ]
  },
  {
   "cell_type": "code",
   "execution_count": 7,
   "metadata": {},
   "outputs": [
    {
     "name": "stdout",
     "output_type": "stream",
     "text": [
      "              precision    recall  f1-score   support\n",
      "\n",
      "           0       0.39      0.58      0.47       984\n",
      "           1       0.17      0.08      0.11       984\n",
      "\n",
      "    accuracy                           0.33      1968\n",
      "   macro avg       0.28      0.33      0.29      1968\n",
      "weighted avg       0.28      0.33      0.29      1968\n",
      "\n"
     ]
    }
   ],
   "source": [
    "# Calculate L1 norm for each point\n",
    "norms1 = np.linalg.norm(data2.values, ord=1, axis=1)\n",
    "\n",
    "# Add L1 norm as a new column to the DataFrame\n",
    "data['L1_norm'] = norms1\n",
    "\n",
    "percentile_threshold = np.percentile(norms1, 75)\n",
    "thresholded_points = data[norms1 > percentile_threshold]\n",
    "y_true = data['class']\n",
    "y_pred = np.where(norms1 > percentile_threshold, 1, 0)\n",
    "print(classification_report(y_true, y_pred))"
   ]
  },
  {
   "cell_type": "markdown",
   "metadata": {},
   "source": [
    "### maximum norm (L∞ norm) \n",
    "### percentile-based thresholding with (L∞ norm) "
   ]
  },
  {
   "cell_type": "code",
   "execution_count": 8,
   "metadata": {},
   "outputs": [
    {
     "name": "stdout",
     "output_type": "stream",
     "text": [
      "              precision    recall  f1-score   support\n",
      "\n",
      "           0       0.41      0.61      0.49       984\n",
      "           1       0.23      0.11      0.15       984\n",
      "\n",
      "    accuracy                           0.36      1968\n",
      "   macro avg       0.32      0.36      0.32      1968\n",
      "weighted avg       0.32      0.36      0.32      1968\n",
      "\n"
     ]
    }
   ],
   "source": [
    "# Calculate L∞ norm for each point\n",
    "norms3 = np.max(np.abs(data2.values), axis=1)\n",
    "\n",
    "# Add L∞ norm as a new column to the DataFrame\n",
    "data['L∞_norm'] = norms3\n",
    "\n",
    "percentile_threshold = np.percentile(norms3, 75)\n",
    "thresholded_points = data[norms3 > percentile_threshold]\n",
    "y_true = data['class']\n",
    "y_pred = np.where(norms3 > percentile_threshold, 1, 0)\n",
    "print(classification_report(y_true, y_pred))"
   ]
  },
  {
   "cell_type": "markdown",
   "metadata": {},
   "source": [
    "### Mahalanobis distance\n",
    "#### percentile-based thresholding with  Mahalanobis distances "
   ]
  },
  {
   "cell_type": "code",
   "execution_count": 9,
   "metadata": {},
   "outputs": [
    {
     "name": "stdout",
     "output_type": "stream",
     "text": [
      "              precision    recall  f1-score   support\n",
      "\n",
      "           0       0.56      0.84      0.67       984\n",
      "           1       0.67      0.34      0.45       984\n",
      "\n",
      "    accuracy                           0.59      1968\n",
      "   macro avg       0.62      0.59      0.56      1968\n",
      "weighted avg       0.62      0.59      0.56      1968\n",
      "\n"
     ]
    }
   ],
   "source": [
    "# Calculate covariance matrix from data values\n",
    "cov_matrix = np.cov(data2.values, rowvar=False)\n",
    "\n",
    "# Inverse of covariance matrix\n",
    "inv_cov_matrix = np.linalg.inv(cov_matrix)\n",
    "\n",
    "# Calculate Mahalanobis distance for each point\n",
    "# Mean vector\n",
    "mean_vector = data2.mean().values  # Convert mean vector to numpy array\n",
    "\n",
    "# Calculate Mahalanobis distance for each point\n",
    "mahalanobis_distances = []\n",
    "for idx, point in data2.iterrows():\n",
    "    diff = point.values - mean_vector\n",
    "    mahalanobis_distance = np.sqrt(np.dot(np.dot(diff, inv_cov_matrix), diff))\n",
    "    mahalanobis_distances.append(mahalanobis_distance)\n",
    "\n",
    "# Add Mahalanobis distance as a new column to the DataFrame\n",
    "data['Mahalanobis_distance'] = mahalanobis_distances\n",
    "\n",
    "percentile_threshold = np.percentile(mahalanobis_distances, 75)\n",
    "thresholded_points = data[mahalanobis_distances > percentile_threshold]\n",
    "y_true = data['class']\n",
    "y_pred = np.where(mahalanobis_distances > percentile_threshold, 1, 0)\n",
    "print(classification_report(y_true, y_pred))"
   ]
  },
  {
   "cell_type": "markdown",
   "metadata": {},
   "source": [
    "### Thresholding using z-score"
   ]
  },
  {
   "cell_type": "code",
   "execution_count": 10,
   "metadata": {},
   "outputs": [
    {
     "name": "stdout",
     "output_type": "stream",
     "text": [
      "              precision    recall  f1-score   support\n",
      "\n",
      "           0       0.63      0.74      0.68       984\n",
      "           1       0.68      0.56      0.62       984\n",
      "\n",
      "    accuracy                           0.65      1968\n",
      "   macro avg       0.65      0.65      0.65      1968\n",
      "weighted avg       0.65      0.65      0.65      1968\n",
      "\n"
     ]
    }
   ],
   "source": [
    "mean = data2.mean()\n",
    "std = data2.std()\n",
    "standardized_data = (data2 - mean) / std\n",
    "y_true = data['class']\n",
    "y_pred = np.where((standardized_data.abs() > 2).any(axis=1), 1, 0)\n",
    "print(classification_report(y_true, y_pred))"
   ]
  },
  {
   "cell_type": "markdown",
   "metadata": {},
   "source": [
    "### Area under AUC-ROC Curve"
   ]
  },
  {
   "cell_type": "code",
   "execution_count": 11,
   "metadata": {},
   "outputs": [
    {
     "name": "stdout",
     "output_type": "stream",
     "text": [
      "AUC-ROC: 0.6498983739837398\n"
     ]
    }
   ],
   "source": [
    "from sklearn.metrics import roc_auc_score\n",
    "auc_roc = roc_auc_score(y_true, y_pred)\n",
    "print(f\"AUC-ROC: {auc_roc}\")"
   ]
  },
  {
   "cell_type": "markdown",
   "metadata": {},
   "source": [
    "#### correlation Heatmap"
   ]
  },
  {
   "cell_type": "code",
   "execution_count": 12,
   "metadata": {},
   "outputs": [
    {
     "data": {
      "image/png": "[encoded data removed]",
      "text/plain": [
       "<Figure size 2000x2000 with 2 Axes>"
      ]
     },
     "metadata": {},
     "output_type": "display_data"
    }
   ],
   "source": [
    "import seaborn as sns\n",
    "import matplotlib.pyplot as plt\n",
    "plt.figure(figsize=(20, 20))\n",
    "corr_matrix = data.corr()\n",
    "sns.heatmap(corr_matrix, annot=False, cmap='coolwarm')\n",
    "plt.show()"
   ]
  },
  {
   "cell_type": "markdown",
   "metadata": {},
   "source": [
    "## isolation forests"
   ]
  },
  {
   "cell_type": "code",
   "execution_count": 13,
   "metadata": {},
   "outputs": [
    {
     "name": "stderr",
     "output_type": "stream",
     "text": [
      "c:\\Users\\user\\AppData\\Local\\Programs\\Python\\Python311\\Lib\\site-packages\\sklearn\\base.py:439: UserWarning: X does not have valid feature names, but IsolationForest was fitted with feature names\n",
      "  warnings.warn(\n"
     ]
    },
    {
     "name": "stdout",
     "output_type": "stream",
     "text": [
      "Number of outliers: 2849\n"
     ]
    }
   ],
   "source": [
    "from sklearn.ensemble import IsolationForest\n",
    "from sklearn.metrics import classification_report, roc_auc_score\n",
    "\n",
    "# Assuming df is your DataFrame and y_true is a Series or array containing the true class labels\n",
    "\n",
    "# Create the Isolation Forest object\n",
    "clf = IsolationForest(n_estimators=100, max_samples='auto', contamination=float(0.01),\n",
    "                      max_features=1.0, random_state=42)\n",
    "\n",
    "# Fit the data and tag outliers\n",
    "clf.fit(df)\n",
    "\n",
    "# Get the predictions (-1 for outliers, 1 for inliers)\n",
    "y_pred = clf.predict(df)\n",
    "\n",
    "# Convert predictions to match y_true labeling (0: normal, 1: anomaly)\n",
    "y_pred_adjusted = np.where(y_pred == 1, 0, 1)  # Converts -1 to 1 for anomalies, and 1 to 0 for normal\n",
    "\n",
    "# Count the number of outliers\n",
    "outlier_count = np.sum(y_pred_adjusted == 1)\n",
    "print(\"Number of outliers:\", outlier_count)\n"
   ]
  },
  {
   "cell_type": "code",
   "execution_count": 14,
   "metadata": {},
   "outputs": [
    {
     "name": "stdout",
     "output_type": "stream",
     "text": [
      "              precision    recall  f1-score   support\n",
      "\n",
      "           0       1.00      0.99      0.99    283823\n",
      "           1       0.00      0.00      0.00       984\n",
      "\n",
      "    accuracy                           0.99    284807\n",
      "   macro avg       0.50      0.50      0.50    284807\n",
      "weighted avg       0.99      0.99      0.99    284807\n",
      "\n",
      "AUC-ROC: 0.4965107021354686\n"
     ]
    }
   ],
   "source": [
    "import numpy as np\n",
    "\n",
    "# Assuming y_pred_adjusted is longer than y_true\n",
    "difference = len(y_pred_adjusted) - len(y_true)\n",
    "if difference > 0:\n",
    "    # Pad y_true with a specific value, e.g., 0 for normal\n",
    "    y_true_padded = np.pad(y_true, (0, difference), 'constant', constant_values=(0,))\n",
    "else:\n",
    "    y_true_padded = y_true\n",
    "\n",
    "# Now y_true_padded should have the same number of samples as y_pred_adjusted\n",
    "# You can now generate the classification report and calculate AUC-ROC\n",
    "print(classification_report(y_true_padded, y_pred_adjusted))\n",
    "\n",
    "# Calculate AUC-ROC\n",
    "auc_roc = roc_auc_score(y_true_padded, y_pred_adjusted)\n",
    "print(f\"AUC-ROC: {auc_roc}\")\n"
   ]
  },
  {
   "cell_type": "markdown",
   "metadata": {},
   "source": [
    "## Local Outlier Factor"
   ]
  },
  {
   "cell_type": "code",
   "execution_count": 15,
   "metadata": {},
   "outputs": [
    {
     "name": "stdout",
     "output_type": "stream",
     "text": [
      "Number of outliers: 2849\n"
     ]
    }
   ],
   "source": [
    "from sklearn.neighbors import LocalOutlierFactor\n",
    "\n",
    "# Create the LOF object\n",
    "clf = LocalOutlierFactor(n_neighbors=20, contamination=float(0.01))\n",
    "\n",
    "# Fit the data and tag the outliers\n",
    "y_pred = clf.fit_predict(df)\n",
    "\n",
    "# Reshape the predictions to a 1D array\n",
    "y_pred = y_pred.reshape(-1,1)\n",
    "\n",
    "# Print the number of outliers\n",
    "print(\"Number of outliers:\", len(df[y_pred == -1]))"
   ]
  },
  {
   "cell_type": "code",
   "execution_count": 17,
   "metadata": {},
   "outputs": [
    {
     "name": "stdout",
     "output_type": "stream",
     "text": [
      "              precision    recall  f1-score   support\n",
      "\n",
      "           0       1.00      0.99      0.99    283823\n",
      "           1       0.00      0.01      0.01       984\n",
      "\n",
      "    accuracy                           0.99    284807\n",
      "   macro avg       0.50      0.50      0.50    284807\n",
      "weighted avg       0.99      0.99      0.99    284807\n",
      "\n",
      "AUC-ROC: 0.5021195113042656\n"
     ]
    }
   ],
   "source": [
    "y_pred_adjusted = np.where(y_pred == 1, 0, 1) \n",
    "# Assuming y_pred_adjusted is longer than y_true\n",
    "difference = len(y_pred_adjusted) - len(y_true)\n",
    "if difference > 0:\n",
    "    # Pad y_true with a specific value, e.g., 0 for normal\n",
    "    y_true_padded = np.pad(y_true, (0, difference), 'constant', constant_values=(0,))\n",
    "else:\n",
    "    y_true_padded = y_true\n",
    "\n",
    "# Now y_true_padded should have the same number of samples as y_pred_adjusted\n",
    "# You can now generate the classification report and calculate AUC-ROC\n",
    "print(classification_report(y_true_padded, y_pred_adjusted))\n",
    "\n",
    "# Calculate AUC-ROC\n",
    "auc_roc = roc_auc_score(y_true_padded, y_pred_adjusted)\n",
    "print(f\"AUC-ROC: {auc_roc}\")"
   ]
  },
  {
   "cell_type": "markdown",
   "metadata": {},
   "source": [
    "## One-class SVM"
   ]
  },
  {
   "cell_type": "code",
   "execution_count": 18,
   "metadata": {},
   "outputs": [
    {
     "name": "stdout",
     "output_type": "stream",
     "text": [
      "Number of outliers: 2843\n"
     ]
    }
   ],
   "source": [
    "from sklearn.svm import OneClassSVM\n",
    "\n",
    "# Create the One-class SVM object\n",
    "clf = OneClassSVM(kernel='rbf', gamma=0.001, nu=0.01)\n",
    "\n",
    "# Fit the data and tag the outliers\n",
    "clf.fit(df)\n",
    "\n",
    "# Get the predictions\n",
    "y_pred = clf.predict(df)\n",
    "\n",
    "# Reshape the predictions to a 1D array\n",
    "y_pred = y_pred.reshape(-1,1)\n",
    "\n",
    "# Print the number of outliers\n",
    "print(\"Number of outliers:\", len(df[y_pred == -1]))"
   ]
  },
  {
   "cell_type": "code",
   "execution_count": 19,
   "metadata": {},
   "outputs": [
    {
     "name": "stdout",
     "output_type": "stream",
     "text": [
      "              precision    recall  f1-score   support\n",
      "\n",
      "           0       1.00      0.99      0.99    283823\n",
      "           1       0.00      0.01      0.00       984\n",
      "\n",
      "    accuracy                           0.99    284807\n",
      "   macro avg       0.50      0.50      0.50    284807\n",
      "weighted avg       0.99      0.99      0.99    284807\n",
      "\n",
      "AUC-ROC: 0.49958062255907854\n"
     ]
    }
   ],
   "source": [
    "y_pred_adjusted = np.where(y_pred == 1, 0, 1) \n",
    "# Assuming y_pred_adjusted is longer than y_true\n",
    "difference = len(y_pred_adjusted) - len(y_true)\n",
    "if difference > 0:\n",
    "    # Pad y_true with a specific value, e.g., 0 for normal\n",
    "    y_true_padded = np.pad(y_true, (0, difference), 'constant', constant_values=(0,))\n",
    "else:\n",
    "    y_true_padded = y_true\n",
    "\n",
    "# Now y_true_padded should have the same number of samples as y_pred_adjusted\n",
    "# You can now generate the classification report and calculate AUC-ROC\n",
    "print(classification_report(y_true_padded, y_pred_adjusted))\n",
    "\n",
    "# Calculate AUC-ROC\n",
    "auc_roc = roc_auc_score(y_true_padded, y_pred_adjusted)\n",
    "print(f\"AUC-ROC: {auc_roc}\")"
   ]
  },
  {
   "cell_type": "markdown",
   "metadata": {},
   "source": [
    "## GridSearchCV"
   ]
  },
  {
   "cell_type": "code",
   "execution_count": 20,
   "metadata": {},
   "outputs": [],
   "source": [
    "from sklearn.model_selection import train_test_split\n",
    "\n",
    "\n",
    "# Define X and y\n",
    "X = df.drop('class', axis=1)\n",
    "y = df['class']\n",
    "\n",
    "# Split the dataset into training and testing sets\n",
    "X_train, X_test, y_train, y_test = train_test_split(X, y, test_size=0.3, random_state=42)"
   ]
  },
  {
   "cell_type": "code",
   "execution_count": 21,
   "metadata": {},
   "outputs": [
    {
     "name": "stderr",
     "output_type": "stream",
     "text": [
      "c:\\Users\\user\\AppData\\Local\\Programs\\Python\\Python311\\Lib\\site-packages\\sklearn\\linear_model\\_logistic.py:458: ConvergenceWarning: lbfgs failed to converge (status=1):\n",
      "STOP: TOTAL NO. of ITERATIONS REACHED LIMIT.\n",
      "\n",
      "Increase the number of iterations (max_iter) or scale the data as shown in:\n",
      "    https://scikit-learn.org/stable/modules/preprocessing.html\n",
      "Please also refer to the documentation for alternative solver options:\n",
      "    https://scikit-learn.org/stable/modules/linear_model.html#logistic-regression\n",
      "  n_iter_i = _check_optimize_result(\n",
      "c:\\Users\\user\\AppData\\Local\\Programs\\Python\\Python311\\Lib\\site-packages\\sklearn\\linear_model\\_logistic.py:458: ConvergenceWarning: lbfgs failed to converge (status=1):\n",
      "STOP: TOTAL NO. of ITERATIONS REACHED LIMIT.\n",
      "\n",
      "Increase the number of iterations (max_iter) or scale the data as shown in:\n",
      "    https://scikit-learn.org/stable/modules/preprocessing.html\n",
      "Please also refer to the documentation for alternative solver options:\n",
      "    https://scikit-learn.org/stable/modules/linear_model.html#logistic-regression\n",
      "  n_iter_i = _check_optimize_result(\n",
      "c:\\Users\\user\\AppData\\Local\\Programs\\Python\\Python311\\Lib\\site-packages\\sklearn\\linear_model\\_logistic.py:458: ConvergenceWarning: lbfgs failed to converge (status=1):\n",
      "STOP: TOTAL NO. of ITERATIONS REACHED LIMIT.\n",
      "\n",
      "Increase the number of iterations (max_iter) or scale the data as shown in:\n",
      "    https://scikit-learn.org/stable/modules/preprocessing.html\n",
      "Please also refer to the documentation for alternative solver options:\n",
      "    https://scikit-learn.org/stable/modules/linear_model.html#logistic-regression\n",
      "  n_iter_i = _check_optimize_result(\n",
      "c:\\Users\\user\\AppData\\Local\\Programs\\Python\\Python311\\Lib\\site-packages\\sklearn\\linear_model\\_logistic.py:458: ConvergenceWarning: lbfgs failed to converge (status=1):\n",
      "STOP: TOTAL NO. of ITERATIONS REACHED LIMIT.\n",
      "\n",
      "Increase the number of iterations (max_iter) or scale the data as shown in:\n",
      "    https://scikit-learn.org/stable/modules/preprocessing.html\n",
      "Please also refer to the documentation for alternative solver options:\n",
      "    https://scikit-learn.org/stable/modules/linear_model.html#logistic-regression\n",
      "  n_iter_i = _check_optimize_result(\n",
      "c:\\Users\\user\\AppData\\Local\\Programs\\Python\\Python311\\Lib\\site-packages\\sklearn\\linear_model\\_logistic.py:458: ConvergenceWarning: lbfgs failed to converge (status=1):\n",
      "STOP: TOTAL NO. of ITERATIONS REACHED LIMIT.\n",
      "\n",
      "Increase the number of iterations (max_iter) or scale the data as shown in:\n",
      "    https://scikit-learn.org/stable/modules/preprocessing.html\n",
      "Please also refer to the documentation for alternative solver options:\n",
      "    https://scikit-learn.org/stable/modules/linear_model.html#logistic-regression\n",
      "  n_iter_i = _check_optimize_result(\n",
      "c:\\Users\\user\\AppData\\Local\\Programs\\Python\\Python311\\Lib\\site-packages\\sklearn\\model_selection\\_validation.py:378: FitFailedWarning: \n",
      "15 fits failed out of a total of 30.\n",
      "The score on these train-test partitions for these parameters will be set to nan.\n",
      "If these failures are not expected, you can try to debug them by setting error_score='raise'.\n",
      "\n",
      "Below are more details about the failures:\n",
      "--------------------------------------------------------------------------------\n",
      "15 fits failed with the following error:\n",
      "Traceback (most recent call last):\n",
      "  File \"c:\\Users\\user\\AppData\\Local\\Programs\\Python\\Python311\\Lib\\site-packages\\sklearn\\model_selection\\_validation.py\", line 686, in _fit_and_score\n",
      "    estimator.fit(X_train, y_train, **fit_params)\n",
      "  File \"c:\\Users\\user\\AppData\\Local\\Programs\\Python\\Python311\\Lib\\site-packages\\sklearn\\linear_model\\_logistic.py\", line 1162, in fit\n",
      "    solver = _check_solver(self.solver, self.penalty, self.dual)\n",
      "             ^^^^^^^^^^^^^^^^^^^^^^^^^^^^^^^^^^^^^^^^^^^^^^^^^^^\n",
      "  File \"c:\\Users\\user\\AppData\\Local\\Programs\\Python\\Python311\\Lib\\site-packages\\sklearn\\linear_model\\_logistic.py\", line 54, in _check_solver\n",
      "    raise ValueError(\n",
      "ValueError: Solver lbfgs supports only 'l2' or 'none' penalties, got l1 penalty.\n",
      "\n",
      "  warnings.warn(some_fits_failed_message, FitFailedWarning)\n",
      "c:\\Users\\user\\AppData\\Local\\Programs\\Python\\Python311\\Lib\\site-packages\\sklearn\\model_selection\\_search.py:952: UserWarning: One or more of the test scores are non-finite: [       nan 0.99847014        nan 0.99899179        nan 0.99911719]\n",
      "  warnings.warn(\n",
      "c:\\Users\\user\\AppData\\Local\\Programs\\Python\\Python311\\Lib\\site-packages\\sklearn\\linear_model\\_logistic.py:458: ConvergenceWarning: lbfgs failed to converge (status=1):\n",
      "STOP: TOTAL NO. of ITERATIONS REACHED LIMIT.\n",
      "\n",
      "Increase the number of iterations (max_iter) or scale the data as shown in:\n",
      "    https://scikit-learn.org/stable/modules/preprocessing.html\n",
      "Please also refer to the documentation for alternative solver options:\n",
      "    https://scikit-learn.org/stable/modules/linear_model.html#logistic-regression\n",
      "  n_iter_i = _check_optimize_result(\n"
     ]
    },
    {
     "name": "stdout",
     "output_type": "stream",
     "text": [
      "LogisticRegression\n",
      "{'C': 10, 'penalty': 'l2'}\n",
      "              precision    recall  f1-score   support\n",
      "\n",
      "           0       1.00      1.00      1.00     85307\n",
      "           1       0.86      0.60      0.70       136\n",
      "\n",
      "    accuracy                           1.00     85443\n",
      "   macro avg       0.93      0.80      0.85     85443\n",
      "weighted avg       1.00      1.00      1.00     85443\n",
      "\n",
      "DecisionTreeClassifier\n",
      "{'criterion': 'gini', 'max_depth': 7}\n",
      "              precision    recall  f1-score   support\n",
      "\n",
      "           0       1.00      1.00      1.00     85307\n",
      "           1       0.87      0.81      0.84       136\n",
      "\n",
      "    accuracy                           1.00     85443\n",
      "   macro avg       0.93      0.90      0.92     85443\n",
      "weighted avg       1.00      1.00      1.00     85443\n",
      "\n",
      "RandomForestClassifier\n",
      "{'max_depth': 7, 'n_estimators': 500}\n",
      "              precision    recall  f1-score   support\n",
      "\n",
      "           0       1.00      1.00      1.00     85307\n",
      "           1       0.95      0.78      0.86       136\n",
      "\n",
      "    accuracy                           1.00     85443\n",
      "   macro avg       0.98      0.89      0.93     85443\n",
      "weighted avg       1.00      1.00      1.00     85443\n",
      "\n"
     ]
    }
   ],
   "source": [
    "from sklearn.metrics import classification_report\n",
    "from sklearn.model_selection import GridSearchCV\n",
    "from sklearn.linear_model import LogisticRegression\n",
    "from sklearn.tree import DecisionTreeClassifier\n",
    "from sklearn.ensemble import RandomForestClassifier\n",
    "from sklearn.neighbors import KNeighborsClassifier\n",
    "\n",
    "# Create a list of classifiers to evaluate\n",
    "classifiers = [LogisticRegression(), DecisionTreeClassifier(),RandomForestClassifier()]\n",
    "\n",
    "# Create parameter grids for each classifier\n",
    "lr_params = {'penalty': ['l1', 'l2'], 'C': [0.1, 1, 10]}\n",
    "dt_params = {'criterion': ['gini', 'entropy'], 'max_depth': [3, 5, 7]}\n",
    "rf_params = {'n_estimators': [100, 300, 500], 'max_depth': [3, 5, 7]}\n",
    "knn_params = {'n_neighbors': [3, 5, 7], 'weights': ['uniform', 'distance']}\n",
    "param_grids = [lr_params, dt_params, rf_params, knn_params]\n",
    "\n",
    "# Loop over classifiers and parameter grids to find the best model\n",
    "for i, classifier in enumerate(classifiers):\n",
    "    clf = GridSearchCV(classifier, param_grids[i], cv=5)\n",
    "    clf.fit(X_train, y_train)\n",
    "    print(classifier.__class__.__name__)\n",
    "    print(clf.best_params_)\n",
    "    y_pred = clf.predict(X_test)\n",
    "    print(classification_report(y_test, y_pred))"
   ]
  },
  {
   "cell_type": "code",
   "execution_count": null,
   "metadata": {},
   "outputs": [],
   "source": [
    "rf_model=RandomForestClassifier()\n",
    "rf_model.fit(X_train)"
   ]
  },
  {
   "cell_type": "code",
   "execution_count": null,
   "metadata": {},
   "outputs": [],
   "source": [
    "from sklearn.metrics import accuracy_score,precision_score,recall_score,f1_score\n",
    "# make predictions on the test set\n",
    "y_pred = rf_model.predict(X_test)\n",
    "\n",
    "# evaluate the model's performance\n",
    "acc = accuracy_score(y_test, y_pred)\n",
    "prec = precision_score(y_test, y_pred)\n",
    "rec = recall_score(y_test, y_pred)\n",
    "f1 = f1_score(y_test, y_pred)\n",
    "auc_roc = roc_auc_score(y_true_padded, y_pred_adjusted)\n",
    "\n",
    "\n",
    "# print the classification metrics\n",
    "print(f\"Accuracy: {acc}\")\n",
    "print(f\"Precision: {prec}\")\n",
    "print(f\"Recall: {rec}\")\n",
    "print(f\"F1 Score: {f1}\")\n",
    "print(f\"AUC-ROC: {auc_roc}\")"
   ]
  },
  {
   "cell_type": "code",
   "execution_count": null,
   "metadata": {},
   "outputs": [],
   "source": [
    "from sklearn.externals import joblib\n",
    "\n",
    "# Define the file path to save the model\n",
    "model_filename = 'vector_norm_anomaly_detection_random_forest_model.pkl'\n",
    "\n",
    "# Save the trained model to disk\n",
    "joblib.dump(rf_model, model_filename)\n",
    "\n",
    "print(\"Model saved as\", model_filename)"
   ]
  }
 ],
 "metadata": {
  "kernelspec": {
   "display_name": "Python 3",
   "language": "python",
   "name": "python3"
  },
  "language_info": {
   "codemirror_mode": {
    "name": "ipython",
    "version": 3
   },
   "file_extension": ".py",
   "mimetype": "text/x-python",
   "name": "python",
   "nbconvert_exporter": "python",
   "pygments_lexer": "ipython3",
   "version": "3.11.5"
  }
 },
 "nbformat": 4,
 "nbformat_minor": 2
}
